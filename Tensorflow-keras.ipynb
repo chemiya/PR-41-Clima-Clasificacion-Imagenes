{
 "cells": [
  {
   "cell_type": "code",
   "execution_count": 1,
   "metadata": {},
   "outputs": [],
   "source": [
    "import tensorflow as tf\n",
    "from tensorflow.keras import layers, models\n",
    "from tensorflow.keras.preprocessing.image import ImageDataGenerator"
   ]
  },
  {
   "cell_type": "code",
   "execution_count": 2,
   "metadata": {},
   "outputs": [],
   "source": [
    "\n",
    "train_data_dir = './train'\n",
    "test_data_dir = './test'\n",
    "validation_data_dir = './valid'"
   ]
  },
  {
   "cell_type": "code",
   "execution_count": 3,
   "metadata": {},
   "outputs": [],
   "source": [
    "# Parametros \n",
    "input_shape = (64, 64, 3)  \n",
    "num_classes = 11\n",
    "batch_size = 32\n",
    "epochs = 10"
   ]
  },
  {
   "cell_type": "code",
   "execution_count": 4,
   "metadata": {},
   "outputs": [],
   "source": [
    "#Generadores\n",
    "train_datagen = ImageDataGenerator(rescale=1./255)\n",
    "test_datagen = ImageDataGenerator(rescale=1./255)\n",
    "validation_datagen = ImageDataGenerator(rescale=1./255)"
   ]
  },
  {
   "cell_type": "code",
   "execution_count": 5,
   "metadata": {},
   "outputs": [
    {
     "name": "stdout",
     "output_type": "stream",
     "text": [
      "Found 110 images belonging to 11 classes.\n",
      "Found 55 images belonging to 11 classes.\n",
      "Found 55 images belonging to 11 classes.\n"
     ]
    }
   ],
   "source": [
    "train_generator = train_datagen.flow_from_directory(\n",
    "    train_data_dir,\n",
    "    target_size=(input_shape[0], input_shape[1]),\n",
    "    batch_size=batch_size,\n",
    "    class_mode='categorical')\n",
    "\n",
    "test_generator = test_datagen.flow_from_directory(\n",
    "    test_data_dir,\n",
    "    target_size=(input_shape[0], input_shape[1]),\n",
    "    batch_size=batch_size,\n",
    "    class_mode='categorical')\n",
    "\n",
    "validation_generator = validation_datagen.flow_from_directory(\n",
    "    validation_data_dir,\n",
    "    target_size=(input_shape[0], input_shape[1]),\n",
    "    batch_size=batch_size,\n",
    "    class_mode='categorical')"
   ]
  },
  {
   "cell_type": "code",
   "execution_count": 6,
   "metadata": {},
   "outputs": [],
   "source": [
    "# Modelo\n",
    "model = models.Sequential([\n",
    "    layers.Conv2D(32, (3, 3), activation='relu', input_shape=input_shape),\n",
    "    layers.MaxPooling2D((2, 2)),\n",
    "    layers.Conv2D(64, (3, 3), activation='relu'),\n",
    "    layers.MaxPooling2D((2, 2)),\n",
    "    layers.Conv2D(128, (3, 3), activation='relu'),\n",
    "    layers.MaxPooling2D((2, 2)),\n",
    "    layers.Flatten(),\n",
    "    layers.Dense(128, activation='relu'),\n",
    "    layers.Dense(num_classes, activation='softmax')\n",
    "])"
   ]
  },
  {
   "cell_type": "code",
   "execution_count": 7,
   "metadata": {},
   "outputs": [],
   "source": [
    "# Compilar el modelo\n",
    "model.compile(optimizer='adam',\n",
    "              loss='categorical_crossentropy',\n",
    "              metrics=['accuracy'])"
   ]
  },
  {
   "cell_type": "code",
   "execution_count": 8,
   "metadata": {},
   "outputs": [
    {
     "name": "stdout",
     "output_type": "stream",
     "text": [
      "Epoch 1/10\n",
      "3/3 [==============================] - 2s 417ms/step - loss: 2.4750 - accuracy: 0.1154 - val_loss: 2.3908 - val_accuracy: 0.0625\n",
      "Epoch 2/10\n",
      "3/3 [==============================] - 1s 224ms/step - loss: 2.3281 - accuracy: 0.2308 - val_loss: 2.3237 - val_accuracy: 0.1875\n",
      "Epoch 3/10\n",
      "3/3 [==============================] - 1s 189ms/step - loss: 2.2938 - accuracy: 0.1667 - val_loss: 2.2646 - val_accuracy: 0.1562\n",
      "Epoch 4/10\n",
      "3/3 [==============================] - 0s 174ms/step - loss: 2.2001 - accuracy: 0.2051 - val_loss: 2.1707 - val_accuracy: 0.1875\n",
      "Epoch 5/10\n",
      "3/3 [==============================] - 1s 176ms/step - loss: 2.0882 - accuracy: 0.2564 - val_loss: 2.0369 - val_accuracy: 0.2500\n",
      "Epoch 6/10\n",
      "3/3 [==============================] - 1s 245ms/step - loss: 1.9657 - accuracy: 0.3021 - val_loss: 1.9486 - val_accuracy: 0.2500\n",
      "Epoch 7/10\n",
      "3/3 [==============================] - 1s 180ms/step - loss: 1.7922 - accuracy: 0.3846 - val_loss: 1.7975 - val_accuracy: 0.3750\n",
      "Epoch 8/10\n",
      "3/3 [==============================] - 1s 233ms/step - loss: 1.6362 - accuracy: 0.4615 - val_loss: 1.6895 - val_accuracy: 0.4062\n",
      "Epoch 9/10\n",
      "3/3 [==============================] - 1s 191ms/step - loss: 1.4769 - accuracy: 0.4615 - val_loss: 1.7608 - val_accuracy: 0.3750\n",
      "Epoch 10/10\n",
      "3/3 [==============================] - 1s 193ms/step - loss: 1.7132 - accuracy: 0.4744 - val_loss: 1.6493 - val_accuracy: 0.4375\n"
     ]
    }
   ],
   "source": [
    "# Entrenar el modelo\n",
    "history = model.fit(\n",
    "    train_generator,\n",
    "    steps_per_epoch=train_generator.samples // batch_size,\n",
    "    epochs=epochs,\n",
    "    validation_data=validation_generator,\n",
    "    validation_steps=validation_generator.samples // batch_size)\n",
    "\n",
    "\n"
   ]
  },
  {
   "cell_type": "code",
   "execution_count": 9,
   "metadata": {},
   "outputs": [
    {
     "name": "stdout",
     "output_type": "stream",
     "text": [
      "2/2 - 0s - loss: 1.7379 - accuracy: 0.3818 - 285ms/epoch - 142ms/step\n",
      "Test accuracy: 0.38181817531585693\n"
     ]
    }
   ],
   "source": [
    "# Evaluar precision del modelo con el conjunto de prueba\n",
    "test_loss, test_acc = model.evaluate(test_generator, verbose=2)\n",
    "print('Test accuracy:', test_acc)"
   ]
  }
 ],
 "metadata": {
  "kernelspec": {
   "display_name": "Python 3",
   "language": "python",
   "name": "python3"
  },
  "language_info": {
   "codemirror_mode": {
    "name": "ipython",
    "version": 3
   },
   "file_extension": ".py",
   "mimetype": "text/x-python",
   "name": "python",
   "nbconvert_exporter": "python",
   "pygments_lexer": "ipython3",
   "version": "3.10.5"
  }
 },
 "nbformat": 4,
 "nbformat_minor": 2
}
